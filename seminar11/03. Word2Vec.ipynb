{
 "cells": [
  {
   "cell_type": "markdown",
   "metadata": {},
   "source": [
    "## Word2Vec"
   ]
  },
  {
   "cell_type": "markdown",
   "metadata": {},
   "source": [
    "Будем обучать word2vec из пакета gensim на корпусе opencorpora.<br/>\n",
    "Этот корпус небольшой, поэтому выдающихся результатов ждать не стоит, но зато обучение будет происходить быстро."
   ]
  },
  {
   "cell_type": "code",
   "execution_count": null,
   "metadata": {},
   "outputs": [],
   "source": [
    "!pip install opencorpora-tools"
   ]
  },
  {
   "cell_type": "code",
   "execution_count": 2,
   "metadata": {},
   "outputs": [],
   "source": [
    "import opencorpora"
   ]
  },
  {
   "cell_type": "code",
   "execution_count": 6,
   "metadata": {},
   "outputs": [
    {
     "name": "stdout",
     "output_type": "stream",
     "text": [
      "Creating annot.opcorpora.xml from http://opencorpora.org/files/export/annot/annot.opcorpora.xml.bz2\n",
      "...............................................................................................................................\n",
      "Done.\n"
     ]
    }
   ],
   "source": [
    "!opencorpora download"
   ]
  },
  {
   "cell_type": "markdown",
   "metadata": {},
   "source": [
    "### Откроем корпус"
   ]
  },
  {
   "cell_type": "code",
   "execution_count": 7,
   "metadata": {},
   "outputs": [],
   "source": [
    "corpus = opencorpora.CorpusReader('annot.opcorpora.xml')\n",
    "docs = corpus.catalog()"
   ]
  },
  {
   "cell_type": "code",
   "execution_count": 24,
   "metadata": {},
   "outputs": [
    {
     "name": "stdout",
     "output_type": "stream",
     "text": [
      "102 08172 Альдо Нове. No future XXI века\n",
      "103 21876 Эдгар По. Гений открытия\n",
      "104 Землетрясение в Чили\n",
      "105 Конец света 21 мая 2011 года не наступил\n",
      "106 Иудеи громят евреев в Иерусалиме\n",
      "107 Кровопролитие в Сирии затронуло Ливан\n",
      "108 Ливия: повстанцы освободили французов\n",
      "109 В Исландии проснулся ещё один вулкан\n",
      "110 02420 Актуальность Дарвина\n",
      "111 В Тунисе произошёл государственный переворот\n"
     ]
    }
   ],
   "source": [
    "for id, name in docs[100:110]:\n",
    "    print(id, name)"
   ]
  },
  {
   "cell_type": "code",
   "execution_count": 19,
   "metadata": {},
   "outputs": [
    {
     "data": {
      "text/plain": [
       "[[('Конец',\n",
       "   [('конец', 'NOUN,inan,masc,sing,nomn'),\n",
       "    ('конец', 'NOUN,inan,masc,sing,accs')]),\n",
       "  ('света', [('свет', 'NOUN,inan,masc,Sgtm,sing,gen1')]),\n",
       "  (',', [(',', 'PNCT')]),\n",
       "  ('который',\n",
       "   [('который', 'ADJF,Apro,Subx,Anph,masc,sing,nomn'),\n",
       "    ('который', 'ADJF,Apro,Subx,Anph,inan,masc,sing,accs')]),\n",
       "  ('предрекал', [('предрекаю', 'VERB,impf,tran,masc,sing,past,indc')]),\n",
       "  ('проповедник', [('проповедник', 'NOUN,anim,masc,sing,nomn')]),\n",
       "  ('-', [('-', 'PNCT')]),\n",
       "  ('евангелист', [('евангелист', 'NOUN,anim,masc,sing,nomn')]),\n",
       "  ('Герольд', [('герольд', 'NOUN,anim,masc,Name,sing,nomn')]),\n",
       "  ('Кемпинг', [('Кемпинг', 'UNKN')]),\n",
       "  ('утром', [('утром', 'ADVB')]),\n",
       "  ('в', [('в', 'PREP')]),\n",
       "  ('06.00', [('06.00', 'NUMB')]),\n",
       "  ('по', [('по', 'PREP')]),\n",
       "  ('московскому',\n",
       "   [('московский', 'ADJF,masc,sing,datv'),\n",
       "    ('московский', 'ADJF,neut,sing,datv')]),\n",
       "  ('времени', [('время', 'NOUN,inan,neut,sing,datv')]),\n",
       "  ('21', [('21', 'NUMB')]),\n",
       "  ('мая', [('май', 'NOUN,inan,masc,Sgtm,sing,gent')]),\n",
       "  ('2011', [('2011', 'NUMB')]),\n",
       "  ('года', [('год', 'NOUN,inan,masc,sing,gen1')]),\n",
       "  ('так', [('так', 'CONJ'), ('так', 'PRCL'), ('так', 'ADVB,Dmns')]),\n",
       "  ('и', [('и', 'CONJ')]),\n",
       "  ('не', [('не', 'PRCL')]),\n",
       "  ('наступил', [('наступил', 'VERB,perf,intr,masc,sing,past,indc')]),\n",
       "  ('.', [('.', 'PNCT')])],\n",
       " [('Это', [('это', 'NPRO,neut,sing,nomn'), ('это', 'NPRO,neut,sing,accs')]),\n",
       "  ('далеко', [('далеко', 'ADVB,Prdx')]),\n",
       "  ('не', [('не', 'PRCL')]),\n",
       "  ('первое',\n",
       "   [('первый', 'ADJF,Anum,neut,sing,nomn'),\n",
       "    ('первый', 'ADJF,Anum,neut,sing,accs')]),\n",
       "  ('несбывшееся',\n",
       "   [('несбывшийся', 'ADJF,neut,sing,nomn'),\n",
       "    ('несбывшийся', 'ADJF,neut,sing,accs')]),\n",
       "  ('предсказание', [('предсказание', 'NOUN,inan,neut,sing,nomn')]),\n",
       "  ('апокалипсиса', [('апокалипсис', 'NOUN,inan,masc,sing,gent')]),\n",
       "  ('.', [('.', 'PNCT')])],\n",
       " [('Поначалу', [('поначалу', 'ADVB')]),\n",
       "  ('на', [('на', 'PREP')]),\n",
       "  ('него',\n",
       "   [('он', 'NPRO,masc,3per,Anph,Anph,sing,accs,Af-p'),\n",
       "    ('оно', 'NPRO,neut,3per,Anph,Anph,sing,accs,Af-p')]),\n",
       "  ('практически', [('практически', 'ADVB')]),\n",
       "  ('не', [('не', 'PRCL')]),\n",
       "  ('обратили', [('обратил', 'VERB,perf,tran,plur,past,indc')]),\n",
       "  ('внимания', [('внимание', 'NOUN,inan,neut,sing,gent')]),\n",
       "  (',', [(',', 'PNCT')]),\n",
       "  ('однако', [('однако', 'CONJ,Prnt')]),\n",
       "  (',', [(',', 'PNCT')]),\n",
       "  ('с', [('с', 'PREP')]),\n",
       "  ('приближением', [('приближение', 'NOUN,inan,neut,sing,ablt')]),\n",
       "  ('этой', [('этот', 'ADJF,Apro,Subx,Anph,femn,sing,gent')]),\n",
       "  ('даты', [('дата', 'NOUN,inan,femn,sing,gent')]),\n",
       "  (',', [(',', 'PNCT')]),\n",
       "  ('немало',\n",
       "   [('немало', 'ADVB'),\n",
       "    ('немал', 'ADJS,neut,sing'),\n",
       "    ('немало', 'NUMR,nomn'),\n",
       "    ('немало', 'NUMR,accs')]),\n",
       "  ('СМИ',\n",
       "   [('сми', 'NOUN,inan,GNdr,Pltm,Fixd,plur,nomn'),\n",
       "    ('сми', 'NOUN,inan,GNdr,Pltm,Fixd,plur,gent'),\n",
       "    ('сми', 'NOUN,inan,GNdr,Pltm,Fixd,plur,datv'),\n",
       "    ('сми', 'NOUN,inan,GNdr,Pltm,Fixd,plur,accs'),\n",
       "    ('сми', 'NOUN,inan,GNdr,Pltm,Fixd,plur,ablt'),\n",
       "    ('сми', 'NOUN,inan,GNdr,Pltm,Fixd,plur,loct')]),\n",
       "  ('в', [('в', 'PREP')]),\n",
       "  ('поисках', [('поиск', 'NOUN,inan,masc,plur,loct')]),\n",
       "  ('сюжета', [('сюжет', 'NOUN,inan,masc,sing,gent')]),\n",
       "  (',', [(',', 'PNCT')]),\n",
       "  ('останавливались', [('останавливаюсь', 'VERB,impf,intr,plur,past,indc')]),\n",
       "  ('на', [('на', 'PREP')]),\n",
       "  ('этом',\n",
       "   [('это', 'NPRO,neut,sing,loct'),\n",
       "    ('этот', 'ADJF,Apro,Subx,Anph,masc,sing,loct'),\n",
       "    ('этот', 'ADJF,Apro,Subx,Anph,neut,sing,loct')]),\n",
       "  (',', [(',', 'PNCT')]),\n",
       "  ('создавая', [('создавая', 'GRND,impf,tran,pres')]),\n",
       "  ('прекрасную', [('прекрасный', 'ADJF,Qual,femn,sing,accs')]),\n",
       "  ('бесплатную', [('бесплатный', 'ADJF,Qual,femn,sing,accs')]),\n",
       "  ('PR-компанию', [('PR-компанию', 'UNKN')]),\n",
       "  ('для', [('для', 'PREP')]),\n",
       "  ('горе-пророка', [('горе-пророка', 'UNKN')]),\n",
       "  ('.', [('.', 'PNCT')])],\n",
       " [('Вполне', [('вполне', 'ADVB')]),\n",
       "  ('вероятно',\n",
       "   [('вероятно', 'CONJ,Prnt'),\n",
       "    ('вероятно', 'ADVB,Prdx'),\n",
       "    ('вероятен', 'ADJS,Qual,neut,sing')]),\n",
       "  (',', [(',', 'PNCT')]),\n",
       "  ('что',\n",
       "   [('что', 'CONJ'),\n",
       "    ('что', 'NPRO,neut,sing,nomn'),\n",
       "    ('что', 'NPRO,neut,sing,accs'),\n",
       "    ('что', 'ADVB,Ques'),\n",
       "    ('что', 'PRCL')]),\n",
       "  ('Герольд', [('герольд', 'NOUN,anim,masc,Name,sing,nomn')]),\n",
       "  ('Кемпинг', [('Кемпинг', 'UNKN')]),\n",
       "  ('объяснит', [('объяснил', 'VERB,perf,tran,sing,3per,futr,indc')]),\n",
       "  ('это',\n",
       "   [('это', 'PRCL'),\n",
       "    ('это', 'NPRO,neut,sing,nomn'),\n",
       "    ('это', 'NPRO,neut,sing,accs'),\n",
       "    ('этот', 'ADJF,Apro,Subx,Anph,neut,sing,nomn'),\n",
       "    ('этот', 'ADJF,Apro,Subx,Anph,neut,sing,accs')]),\n",
       "  ('какой-либо', [('какой-либо', 'ADJF,Apro,femn,sing,ablt')]),\n",
       "  ('неточностью', [('неточность', 'NOUN,inan,femn,sing,ablt')]),\n",
       "  ('и', [('и', 'CONJ'), ('и', 'INTJ')]),\n",
       "  ('перенесет', [('перенёс', 'VERB,perf,tran,sing,3per,futr,indc')]),\n",
       "  ('катастрофу', [('катастрофа', 'NOUN,inan,femn,sing,accs')]),\n",
       "  ('на', [('на', 'PREP')]),\n",
       "  ('некоторое',\n",
       "   [('некоторый', 'ADJF,Apro,neut,sing,nomn'),\n",
       "    ('некоторый', 'ADJF,Apro,neut,sing,accs')]),\n",
       "  ('время', [('время', 'NOUN,inan,neut,sing,accs')]),\n",
       "  ('вперёд', [('вперёд', 'ADVB')]),\n",
       "  (',', [(',', 'PNCT')]),\n",
       "  ('и', [('и', 'CONJ'), ('и', 'INTJ')]),\n",
       "  ('по', [('по', 'PREP')]),\n",
       "  ('прежнему',\n",
       "   [('прежний', 'ADJF,masc,sing,datv'), ('прежний', 'ADJF,neut,sing,datv')]),\n",
       "  ('будет', [('есть', 'VERB,impf,intr,sing,3per,futr,indc')]),\n",
       "  ('оставаться', [('оставаться', 'INFN,impf,intr')]),\n",
       "  ('в', [('в', 'PREP')]),\n",
       "  ('центре', [('центр', 'NOUN,inan,masc,sing,loct')]),\n",
       "  ('внимания', [('внимание', 'NOUN,inan,neut,sing,gent')]),\n",
       "  ('.', [('.', 'PNCT')])],\n",
       " [('Так', [('так', 'CONJ'), ('так', 'PRCL'), ('так', 'ADVB,Dmns')]),\n",
       "  (',', [(',', 'PNCT')]),\n",
       "  ('согласно',\n",
       "   [('согласно', 'ADVB'),\n",
       "    ('согласно', 'PREP'),\n",
       "    ('согласен', 'ADJS,Qual,neut,sing')]),\n",
       "  ('его',\n",
       "   [('его', 'ADJF,Fixd,Apro,Anph,masc,sing,nomn'),\n",
       "    ('его', 'ADJF,Fixd,Apro,Anph,masc,sing,gent'),\n",
       "    ('его', 'ADJF,Fixd,Apro,Anph,masc,sing,datv'),\n",
       "    ('его', 'ADJF,Fixd,Apro,Anph,masc,sing,accs'),\n",
       "    ('его', 'ADJF,Fixd,Apro,Anph,masc,sing,ablt'),\n",
       "    ('его', 'ADJF,Fixd,Apro,Anph,masc,sing,loct'),\n",
       "    ('его', 'ADJF,Fixd,Apro,Anph,femn,sing,nomn'),\n",
       "    ('его', 'ADJF,Fixd,Apro,Anph,femn,sing,gent'),\n",
       "    ('его', 'ADJF,Fixd,Apro,Anph,femn,sing,datv'),\n",
       "    ('его', 'ADJF,Fixd,Apro,Anph,femn,sing,accs'),\n",
       "    ('его', 'ADJF,Fixd,Apro,Anph,femn,sing,ablt'),\n",
       "    ('его', 'ADJF,Fixd,Apro,Anph,femn,sing,loct'),\n",
       "    ('его', 'ADJF,Fixd,Apro,Anph,neut,sing,nomn'),\n",
       "    ('его', 'ADJF,Fixd,Apro,Anph,neut,sing,gent'),\n",
       "    ('его', 'ADJF,Fixd,Apro,Anph,neut,sing,datv'),\n",
       "    ('его', 'ADJF,Fixd,Apro,Anph,neut,sing,accs'),\n",
       "    ('его', 'ADJF,Fixd,Apro,Anph,neut,sing,ablt'),\n",
       "    ('его', 'ADJF,Fixd,Apro,Anph,neut,sing,loct'),\n",
       "    ('его', 'ADJF,Fixd,Apro,Anph,plur,nomn'),\n",
       "    ('его', 'ADJF,Fixd,Apro,Anph,plur,gent'),\n",
       "    ('его', 'ADJF,Fixd,Apro,Anph,plur,datv'),\n",
       "    ('его', 'ADJF,Fixd,Apro,Anph,plur,accs'),\n",
       "    ('его', 'ADJF,Fixd,Apro,Anph,plur,ablt'),\n",
       "    ('его', 'ADJF,Fixd,Apro,Anph,plur,loct'),\n",
       "    ('он', 'NPRO,masc,3per,Anph,Anph,sing,gent'),\n",
       "    ('он', 'NPRO,masc,3per,Anph,Anph,sing,accs'),\n",
       "    ('оно', 'NPRO,neut,3per,Anph,Anph,sing,gent'),\n",
       "    ('оно', 'NPRO,neut,3per,Anph,Anph,sing,accs')]),\n",
       "  ('пророчествам', [('пророчество', 'NOUN,inan,neut,plur,datv')]),\n",
       "  (',', [(',', 'PNCT')]),\n",
       "  ('6', [('6', 'NUMB')]),\n",
       "  ('сентября', [('сентябрь', 'NOUN,inan,masc,sing,gent')]),\n",
       "  ('1994', [('1994', 'NUMB')]),\n",
       "  ('года', [('год', 'NOUN,inan,masc,sing,gen1')]),\n",
       "  ('на', [('на', 'PREP')]),\n",
       "  ('Землю', [('земля', 'NOUN,inan,femn,sing,accs')]),\n",
       "  ('должен', [('должен', 'ADJS,masc,sing')]),\n",
       "  ('был', [('есть', 'VERB,impf,intr,masc,sing,past,indc')]),\n",
       "  ('опуститься', [('опуститься', 'INFN,perf,intr')]),\n",
       "  ('Иисус', [('иисус', 'NOUN,anim,masc,Name,sing,nomn')]),\n",
       "  ('Христос', [('христос', 'NOUN,anim,masc,Sgtm,sing,nomn')]),\n",
       "  ('.', [('.', 'PNCT')])],\n",
       " [('Следующее',\n",
       "   [('следующий', 'PRTF,impf,intr,pres,actv,neut,sing,nomn'),\n",
       "    ('следующий', 'PRTF,impf,intr,pres,actv,neut,sing,accs'),\n",
       "    ('следующий', 'ADJF,neut,sing,nomn'),\n",
       "    ('следующий', 'ADJF,neut,sing,accs')]),\n",
       "  ('подобное',\n",
       "   [('подобный', 'ADJF,Subx,Qual,neut,sing,nomn'),\n",
       "    ('подобный', 'ADJF,Subx,Qual,neut,sing,accs')]),\n",
       "  ('мероприятие', [('мероприятие', 'NOUN,inan,neut,sing,nomn')]),\n",
       "  (',', [(',', 'PNCT')]),\n",
       "  ('по', [('по', 'PREP')]),\n",
       "  ('прогнозам', [('прогноз', 'NOUN,inan,masc,plur,datv')]),\n",
       "  ('майя',\n",
       "   [('майя', 'NOUN,anim,GNdr,Ms-f,Fixd,plur,nomn'),\n",
       "    ('майя', 'NOUN,anim,GNdr,Ms-f,Fixd,plur,gent'),\n",
       "    ('майя', 'NOUN,anim,GNdr,Ms-f,Fixd,plur,datv'),\n",
       "    ('майя', 'NOUN,anim,GNdr,Ms-f,Fixd,plur,accs'),\n",
       "    ('майя', 'NOUN,anim,GNdr,Ms-f,Fixd,plur,ablt'),\n",
       "    ('майя', 'NOUN,anim,GNdr,Ms-f,Fixd,plur,loct')]),\n",
       "  (',', [(',', 'PNCT')]),\n",
       "  ('ожидается', [('ожидаюсь', 'VERB,impf,intr,sing,3per,pres,indc')]),\n",
       "  ('21', [('21', 'NUMB')]),\n",
       "  ('декабря', [('декабрь', 'NOUN,inan,masc,sing,gent')]),\n",
       "  ('2012', [('2012', 'NUMB')]),\n",
       "  ('года', [('год', 'NOUN,inan,masc,sing,gen1')]),\n",
       "  (',', [(',', 'PNCT')]),\n",
       "  ('однако', [('однако', 'INTJ'), ('однако', 'CONJ,Prnt')]),\n",
       "  ('не', [('не', 'PRCL')]),\n",
       "  ('следует', [('следую', 'VERB,impf,intr,sing,3per,pres,indc,Impx')]),\n",
       "  ('забывать', [('забывать', 'INFN,impf,tran')]),\n",
       "  (',', [(',', 'PNCT')]),\n",
       "  ('что',\n",
       "   [('что', 'CONJ'),\n",
       "    ('что', 'NPRO,neut,sing,nomn'),\n",
       "    ('что', 'NPRO,neut,sing,accs'),\n",
       "    ('что', 'ADVB,Ques'),\n",
       "    ('что', 'PRCL')]),\n",
       "  ('конец',\n",
       "   [('конец', 'NOUN,inan,masc,sing,nomn'),\n",
       "    ('конец', 'NOUN,inan,masc,sing,accs')]),\n",
       "  ('этой', [('этот', 'ADJF,Apro,Subx,Anph,femn,sing,gent')]),\n",
       "  ('цивилизации', [('цивилизация', 'NOUN,inan,femn,sing,gent')]),\n",
       "  ('наступил', [('наступил', 'VERB,perf,intr,masc,sing,past,indc')]),\n",
       "  ('значительно', [('значительно', 'ADVB')]),\n",
       "  ('раньше', [('раньше', 'COMP')]),\n",
       "  (',', [(',', 'PNCT')]),\n",
       "  ('и', [('и', 'CONJ'), ('и', 'INTJ')]),\n",
       "  ('это',\n",
       "   [('это', 'PRCL'),\n",
       "    ('это', 'NPRO,neut,sing,nomn'),\n",
       "    ('это', 'NPRO,neut,sing,accs'),\n",
       "    ('этот', 'ADJF,Apro,Subx,Anph,neut,sing,nomn'),\n",
       "    ('этот', 'ADJF,Apro,Subx,Anph,neut,sing,accs')]),\n",
       "  ('отчего-то', [('отчего-то', 'ADVB')]),\n",
       "  ('не', [('не', 'PRCL')]),\n",
       "  ('отображено', [('отображён', 'PRTS,perf,past,pssv,neut,sing')]),\n",
       "  ('в', [('в', 'PREP')]),\n",
       "  ('их',\n",
       "   [('их', 'ADJF,Fixd,Apro,Anph,masc,sing,nomn'),\n",
       "    ('их', 'ADJF,Fixd,Apro,Anph,masc,sing,gent'),\n",
       "    ('их', 'ADJF,Fixd,Apro,Anph,masc,sing,datv'),\n",
       "    ('их', 'ADJF,Fixd,Apro,Anph,masc,sing,accs'),\n",
       "    ('их', 'ADJF,Fixd,Apro,Anph,masc,sing,ablt'),\n",
       "    ('их', 'ADJF,Fixd,Apro,Anph,masc,sing,loct'),\n",
       "    ('их', 'ADJF,Fixd,Apro,Anph,femn,sing,nomn'),\n",
       "    ('их', 'ADJF,Fixd,Apro,Anph,femn,sing,gent'),\n",
       "    ('их', 'ADJF,Fixd,Apro,Anph,femn,sing,datv'),\n",
       "    ('их', 'ADJF,Fixd,Apro,Anph,femn,sing,accs'),\n",
       "    ('их', 'ADJF,Fixd,Apro,Anph,femn,sing,ablt'),\n",
       "    ('их', 'ADJF,Fixd,Apro,Anph,femn,sing,loct'),\n",
       "    ('их', 'ADJF,Fixd,Apro,Anph,neut,sing,nomn'),\n",
       "    ('их', 'ADJF,Fixd,Apro,Anph,neut,sing,gent'),\n",
       "    ('их', 'ADJF,Fixd,Apro,Anph,neut,sing,datv'),\n",
       "    ('их', 'ADJF,Fixd,Apro,Anph,neut,sing,accs'),\n",
       "    ('их', 'ADJF,Fixd,Apro,Anph,neut,sing,ablt'),\n",
       "    ('их', 'ADJF,Fixd,Apro,Anph,neut,sing,loct'),\n",
       "    ('их', 'ADJF,Fixd,Apro,Anph,plur,nomn'),\n",
       "    ('их', 'ADJF,Fixd,Apro,Anph,plur,gent'),\n",
       "    ('их', 'ADJF,Fixd,Apro,Anph,plur,datv'),\n",
       "    ('их', 'ADJF,Fixd,Apro,Anph,plur,accs'),\n",
       "    ('их', 'ADJF,Fixd,Apro,Anph,plur,ablt'),\n",
       "    ('их', 'ADJF,Fixd,Apro,Anph,plur,loct'),\n",
       "    ('они', 'NPRO,3per,Anph,plur,gent'),\n",
       "    ('они', 'NPRO,3per,Anph,plur,accs')]),\n",
       "  ('наследии', [('наследие', 'NOUN,inan,neut,sing,loct')]),\n",
       "  (',', [(',', 'PNCT')]),\n",
       "  ('поэтому', [('поэтому', 'ADVB')]),\n",
       "  ('и', [('и', 'CONJ'), ('и', 'INTJ')]),\n",
       "  ('достоверность',\n",
       "   [('достоверность', 'NOUN,inan,femn,sing,nomn'),\n",
       "    ('достоверность', 'NOUN,inan,femn,sing,accs')]),\n",
       "  ('подобного', [('подобный', 'ADJF,Subx,Qual,neut,sing,gent')]),\n",
       "  ('прорицания', [('прорицание', 'NOUN,inan,neut,sing,gent')]),\n",
       "  ('далеко', [('далёк', 'ADJS,Qual,neut,sing'), ('далеко', 'ADVB,Prdx')]),\n",
       "  ('не', [('не', 'PRCL')]),\n",
       "  ('очевидна', [('очевиден', 'ADJS,Qual,femn,sing')]),\n",
       "  ('.', [('.', 'PNCT')])],\n",
       " [('Если', [('если', 'CONJ')]),\n",
       "  ('-', [('-', 'PNCT')]),\n",
       "  ('же', [('же', 'CONJ'), ('же', 'PRCL')]),\n",
       "  ('и', [('и', 'CONJ'), ('и', 'INTJ')]),\n",
       "  ('майя', [('майя', 'NOUN,anim,GNdr,Ms-f,Fixd,plur,nomn')]),\n",
       "  ('ошиблись', [('ошибся', 'VERB,perf,intr,plur,past,indc')]),\n",
       "  (',', [(',', 'PNCT')]),\n",
       "  ('то',\n",
       "   [('то', 'CONJ'),\n",
       "    ('то', 'PRCL'),\n",
       "    ('тот', 'ADJF,Subx,Apro,Anph,neut,sing,nomn'),\n",
       "    ('тот', 'ADJF,Subx,Apro,Anph,neut,sing,accs')]),\n",
       "  ('расслабляться', [('расслабляться', 'INFN,impf,intr')]),\n",
       "  ('всё-равно', [('всё-равно', 'UNKN')]),\n",
       "  ('не', [('не', 'PRCL')]),\n",
       "  ('стоит',\n",
       "   [('стою', 'VERB,impf,tran,sing,3per,pres,indc'),\n",
       "    ('стоило', 'VERB,impf,intr,Impe,sing,pres,indc'),\n",
       "    ('стою', 'VERB,impf,intr,sing,3per,pres,indc')]),\n",
       "  ('.', [('.', 'PNCT')])],\n",
       " [('Апокалиптических', [('апокалиптический', 'ADJF,plur,gent')]),\n",
       "  ('теорий', [('теория', 'NOUN,inan,femn,plur,gent')]),\n",
       "  ('ещё', [('ещё', 'PRCL'), ('ещё', 'ADVB')]),\n",
       "  ('достаточно',\n",
       "   [('достаточно', 'ADVB,Prdx'),\n",
       "    ('достаточен', 'ADJS,Qual,neut,sing'),\n",
       "    ('достаточно', 'NUMR,accs'),\n",
       "    ('достаточно', 'NUMR,nomn')]),\n",
       "  (':', [(':', 'PNCT')])],\n",
       " [('*', [('*', 'PNCT')]),\n",
       "  ('2021', [('2021', 'NUMB')]),\n",
       "  ('год',\n",
       "   [('год', 'NOUN,inan,masc,sing,nomn'), ('год', 'NOUN,inan,masc,sing,accs')]),\n",
       "  ('—', [('—', 'PNCT')]),\n",
       "  ('инверсия', [('инверсия', 'NOUN,inan,femn,sing,nomn')]),\n",
       "  ('магнитного', [('магнитный', 'ADJF,Qual,neut,sing,gent')]),\n",
       "  ('поля', [('поле', 'NOUN,inan,neut,sing,gent')]),\n",
       "  ('Земли', [('земля', 'NOUN,inan,femn,sing,gent')]),\n",
       "  ('уничтожит', [('уничтожил', 'VERB,perf,tran,sing,3per,futr,indc')]),\n",
       "  ('часть', [('часть', 'NOUN,inan,femn,sing,accs')]),\n",
       "  ('человечества', [('человечество', 'NOUN,inan,neut,sing,gent')]),\n",
       "  ('.', [('.', 'PNCT')])],\n",
       " [('*', [('*', 'PNCT')]),\n",
       "  ('2060', [('2060', 'NUMB')]),\n",
       "  ('год',\n",
       "   [('год', 'NOUN,inan,masc,sing,nomn'), ('год', 'NOUN,inan,masc,sing,accs')]),\n",
       "  ('—', [('—', 'PNCT')]),\n",
       "  ('Согласно',\n",
       "   [('согласно', 'ADVB'),\n",
       "    ('согласно', 'PREP'),\n",
       "    ('согласен', 'ADJS,Qual,neut,sing')]),\n",
       "  ('расчётам', [('расчёт', 'NOUN,inan,masc,plur,datv')]),\n",
       "  ('Исаака', [('исаак', 'NOUN,anim,masc,Name,sing,gent')]),\n",
       "  ('Ньютона', [('ньютон', 'NOUN,inan,masc,sing,gent')]),\n",
       "  (',', [(',', 'PNCT')]),\n",
       "  ('сделанным', [('сделанный', 'PRTF,perf,tran,past,pssv,plur,datv')]),\n",
       "  ('в', [('в', 'PREP')]),\n",
       "  ('1704', [('1704', 'NUMB')]),\n",
       "  ('году', [('год', 'NOUN,inan,masc,sing,loc2')]),\n",
       "  ('по', [('по', 'PREP')]),\n",
       "  ('библейской',\n",
       "   [('библейский', 'ADJF,femn,sing,gent'),\n",
       "    ('библейский', 'ADJF,femn,sing,datv'),\n",
       "    ('библейский', 'ADJF,femn,sing,ablt'),\n",
       "    ('библейский', 'ADJF,femn,sing,loct')]),\n",
       "  ('книге', [('книга', 'NOUN,inan,femn,sing,datv')]),\n",
       "  ('Даниила',\n",
       "   [('даниил', 'NOUN,anim,masc,Name,sing,gent'),\n",
       "    ('даниил', 'NOUN,anim,masc,Name,sing,accs')]),\n",
       "  ('станет', [('стал', 'VERB,perf,intr,sing,3per,futr,indc')]),\n",
       "  ('последним', [('последний', 'ADJF,masc,sing,ablt')]),\n",
       "  ('для', [('для', 'PREP')]),\n",
       "  ('людей', [('человек', 'NOUN,anim,masc,plur,gent')]),\n",
       "  ('.', [('.', 'PNCT')])],\n",
       " [('*', [('*', 'PNCT')]),\n",
       "  ('2242', [('2242', 'NUMB')]),\n",
       "  ('год', [('год', 'NOUN,inan,masc,sing,nomn')]),\n",
       "  ('—', [('—', 'PNCT')]),\n",
       "  ('конец', [('конец', 'NOUN,inan,masc,sing,nomn')]),\n",
       "  ('эпохи', [('эпоха', 'NOUN,inan,femn,sing,gent')]),\n",
       "  ('Солнца', [('солнце', 'NOUN,inan,neut,sing,gent')]),\n",
       "  ('согласно',\n",
       "   [('согласно', 'ADVB'),\n",
       "    ('согласно', 'PREP'),\n",
       "    ('согласен', 'ADJS,Qual,neut,sing')]),\n",
       "  ('теории', [('теория', 'NOUN,inan,femn,sing,datv')]),\n",
       "  ('смены', [('смена', 'NOUN,inan,femn,sing,gent')]),\n",
       "  ('планетных', [('планетный', 'ADJF,Qual,plur,gent')]),\n",
       "  ('эпох', [('эпоха', 'NOUN,inan,femn,plur,gent')]),\n",
       "  (',', [(',', 'PNCT')]),\n",
       "  ('которая', [('который', 'ADJF,Apro,Subx,Anph,femn,sing,nomn')]),\n",
       "  ('была', [('есть', 'VERB,impf,intr,femn,sing,past,indc')]),\n",
       "  ('изложена', [('изложен', 'PRTS,perf,past,pssv,femn,sing')]),\n",
       "  ('в', [('в', 'PREP')]),\n",
       "  ('работах', [('работа', 'NOUN,inan,femn,plur,loct')]),\n",
       "  ('ибн', [('ибн', 'PRCL')]),\n",
       "  ('Эзра', [('эзра', 'UNKN')]),\n",
       "  (',', [(',', 'PNCT')]),\n",
       "  ('Авраама', [('авраам', 'NOUN,anim,masc,Name,sing,gent')]),\n",
       "  ('и', [('и', 'CONJ'), ('и', 'INTJ')]),\n",
       "  ('Абу', [('абу', 'NOUN,anim,masc,Sgtm,Fixd,Name,sing,gent')]),\n",
       "  ('Машара', [('машара', 'UNKN')]),\n",
       "  ('.', [('.', 'PNCT')])],\n",
       " [('*', [('*', 'PNCT')]),\n",
       "  ('2892', [('2892', 'NUMB')]),\n",
       "  ('год', [('год', 'NOUN,inan,masc,sing,nomn')]),\n",
       "  ('—', [('—', 'PNCT')]),\n",
       "  ('апокалипсис', [('апокалипсис', 'NOUN,inan,masc,sing,nomn')]),\n",
       "  ('обещанный',\n",
       "   [('обещанный', 'PRTF,perf,tran,past,pssv,masc,sing,nomn'),\n",
       "    ('обещанный', 'PRTF,perf,tran,past,pssv,inan,masc,sing,accs'),\n",
       "    ('обещанный', 'PRTF,impf,tran,past,pssv,masc,sing,nomn'),\n",
       "    ('обещанный', 'PRTF,impf,tran,past,pssv,inan,masc,sing,accs')]),\n",
       "  ('Авелем', [('авель', 'NOUN,anim,masc,Name,sing,ablt')]),\n",
       "  ('.', [('.', 'PNCT')])],\n",
       " [('*', [('*', 'PNCT')]),\n",
       "  ('3797', [('3797', 'NUMB')]),\n",
       "  ('год',\n",
       "   [('год', 'NOUN,inan,masc,sing,nomn'), ('год', 'NOUN,inan,masc,sing,accs')]),\n",
       "  ('—', [('—', 'PNCT')]),\n",
       "  ('кончину', [('кончина', 'NOUN,inan,femn,sing,accs')]),\n",
       "  ('миру', [('мир', 'NOUN,inan,masc,sing,datv')]),\n",
       "  ('предрёк', [('предрёк', 'VERB,perf,tran,masc,sing,past,indc')]),\n",
       "  ('сам',\n",
       "   [('сам', 'ADJF,Apro,masc,sing,nomn'),\n",
       "    ('сам', 'ADJF,Apro,inan,masc,sing,accs')]),\n",
       "  ('Нострадамус', [('нострадамус', 'UNKN')]),\n",
       "  ('.', [('.', 'PNCT')])],\n",
       " [('*', [('*', 'PNCT')]),\n",
       "  ('5079', [('5079', 'NUMB')]),\n",
       "  ('год', [('год', 'NOUN,inan,masc,sing,accs')]),\n",
       "  ('—', [('—', 'PNCT')]),\n",
       "  ('сочла', [('счёл', 'VERB,perf,tran,femn,sing,past,indc')]),\n",
       "  ('последним',\n",
       "   [('последний', 'ADJF,masc,sing,ablt'),\n",
       "    ('последний', 'ADJF,neut,sing,ablt')]),\n",
       "  ('всемирно', [('всемирно', 'ADVB'), ('всемирен', 'ADJS,Qual,neut,sing')]),\n",
       "  ('известная', [('известный', 'ADJF,Qual,femn,sing,nomn')]),\n",
       "  ('Ванга', [('Ванга', 'UNKN')]),\n",
       "  ('…', [('…', 'PNCT')])]]"
      ]
     },
     "execution_count": 19,
     "metadata": {},
     "output_type": "execute_result"
    }
   ],
   "source": [
    "corpus.parsed_sents(105)"
   ]
  },
  {
   "cell_type": "markdown",
   "metadata": {},
   "source": [
    "### Посмотрим на контексты слов"
   ]
  },
  {
   "cell_type": "code",
   "execution_count": 9,
   "metadata": {},
   "outputs": [],
   "source": [
    "from nltk.text import Text\n",
    "all_tokens = []\n",
    "for id, name in docs:\n",
    "    all_tokens.extend(corpus.words(id))\n",
    "\n",
    "textCorpus = Text(all_tokens)"
   ]
  },
  {
   "cell_type": "code",
   "execution_count": 27,
   "metadata": {
    "scrolled": true
   },
   "outputs": [
    {
     "name": "stdout",
     "output_type": "stream",
     "text": [
      "Displaying 25 of 66 matches:\n",
      "ого вождя Малиетоа Лаупепу , однако король Лаупепа в 1885 году вступил в откры\n",
      "лавредом , а в 2003-м Боря Ельцин – король вечеринок . Это ***ня . Но кто вам \n",
      "дарных спектаклей « Пчеловоды » и « Король - олень » , « Школа шутов » и « Фил\n",
      "недано ушедший из жизни музыкальный король Майкл Джексон в своё время совершил\n",
      "т всё внутри … 0 — а ведь голый наш король » . Король оказался не только гол ,\n",
      "и … 0 — а ведь голый наш король » . Король оказался не только гол , но и чёрен\n",
      "В 1660-м пуритане власть потеряли и король Чарльз II отменил запрет . Тем не м\n",
      "ая-то . А всем остальным нравится . Король - таки голый , или со мной что-то н\n",
      "оставлены под сомнение . Всем миром Король Испании Хуан Карлос I и президент С\n",
      "щь в тушении российских пожаров . « Король Испании отметил , что Испания , нар\n",
      "личаться милой обстоятельностью ( « Король Файфа » , эпизод « Авария » ) . Взр\n",
      "я шахмат , в которой у белых только король и пешка , но зато они делают два хо\n",
      "ь , вдохновлённый пьесой Шекспира « Король Лир » . Однако это не очередная кла\n",
      " в « Мастерской Петра Фоменко » и « Король Лир » театра « Сатирикон » . Также \n",
      "спектаклям « Мадам Баттерфляй » и « Король Рогер » . « Они предложат сценическ\n",
      "ь людей , – и не велика беда , если король окажется голым . В отрыве от логики\n",
      "иболее угодная Кузнецу \" . Набожный король Бэйлор Благословенный ( правил в 16\n",
      "е ( к примеру , Бейелор Таргариен , король - септон ) . Неудивительно , что дл\n",
      "олись в особенности с Детьми Леса . Король Эррег , прозванный Цареубийцей , пр\n",
      "о том , как Бейелор Благочестивый , король - септон , приказал своему излишне \n",
      "ветственно ) носитель этого имени , Король ( страна ) . И да хранят тебя Семер\n",
      "ечает : \" Да будет так \" и встает . Король поворачивается к своим подданным , \n",
      "има и папы . В 1494 г . французский король Карл VIII вступил в Италию и в нояб\n",
      "с вестью о крестьянском восстании , король и его отряд немедленно выступает , \n",
      "мени Селена . В развязавшейся битве король потерпел поражение и был убит , а с\n"
     ]
    }
   ],
   "source": [
    "textCorpus.concordance('король')"
   ]
  },
  {
   "cell_type": "markdown",
   "metadata": {},
   "source": [
    "Среди токенов есть пунктуация, которая несет мало контекстной информации."
   ]
  },
  {
   "cell_type": "markdown",
   "metadata": {},
   "source": [
    "Так как текстов немного, матрицу term-context можно сделать более плотно заполненной, если использовать нормальзованную форму слов.<br/>\n",
    "В корпусе эта информация уже есть, но если бы не было мы бы могли воспользоваться pymorphy."
   ]
  },
  {
   "cell_type": "code",
   "execution_count": 33,
   "metadata": {
    "scrolled": true
   },
   "outputs": [
    {
     "name": "stdout",
     "output_type": "stream",
     "text": [
      "конец свет который предрекаю проповедник евангелист герольд Кемпинг утром в 06.00 по московский время 21 май 2011 год так и не наступил\n",
      "это далеко не первый несбывшийся предсказание апокалипсис\n",
      "поначалу на он практически не обратил внимание однако с приближение этот дата немало сми в поиск сюжет останавливаюсь на это создавая прекрасный бесплатный PR-компанию для горе-пророка\n",
      "вполне вероятно что герольд Кемпинг объяснил это какой-либо неточность и перенёс катастрофа на некоторый время вперёд и по прежний есть оставаться в центр внимание\n",
      "так согласно его пророчество 6 сентябрь 1994 год на земля должен есть опуститься иисус христос\n",
      "следующий подобный мероприятие по прогноз майя ожидаюсь 21 декабрь 2012 год однако не следую забывать что конец этот цивилизация наступил значительно раньше и это отчего-то не отображён в их наследие поэтому и достоверность подобный прорицание далёк не очевиден\n",
      "если же и майя ошибся то расслабляться всё-равно не стою\n",
      "апокалиптический теория ещё достаточно\n",
      "2021 год инверсия магнитный поле земля уничтожил часть человечество\n",
      "2060 год согласно расчёт исаак ньютон сделанный в 1704 год по библейский книга даниил стал последний для человек\n",
      "2242 год конец эпоха солнце согласно теория смена планетный эпоха который есть изложен в работа ибн эзра авраам и абу машара\n",
      "2892 год апокалипсис обещанный авель\n",
      "3797 год кончина мир предрёк сам нострадамус\n",
      "5079 год счёл последний всемирно известный Ванга\n"
     ]
    }
   ],
   "source": [
    "for id, name in docs[103:104]:\n",
    "    sentences = corpus.parsed_sents(id)\n",
    "    for sentence in sentences:\n",
    "        words = []\n",
    "        for word_info in sentence:\n",
    "            word = word_info[0]\n",
    "            word_norm = word_info[1][0][0]\n",
    "            word_tag = word_info[1][0][1]\n",
    "            if word_tag != 'PNCT':\n",
    "                words.append(word_norm)\n",
    "            #print word, word_norm, word_tag\n",
    "        print(' '.join(words))"
   ]
  },
  {
   "cell_type": "markdown",
   "metadata": {},
   "source": [
    "### Обучим word2vec"
   ]
  },
  {
   "cell_type": "code",
   "execution_count": 71,
   "metadata": {},
   "outputs": [],
   "source": [
    "import codecs, string\n",
    "f = codecs.open('opencorpora_for_word2vec.txt', 'w', encoding='utf-8')\n",
    "\n",
    "import pymorphy2\n",
    "morph = pymorphy2.MorphAnalyzer()\n",
    "\n",
    "for id, name in docs:\n",
    "    sentences = corpus.parsed_sents(id)\n",
    "    for sentence in sentences:\n",
    "        #sentence = [w.lower() for w in sentence if not w in string.punctuation]\n",
    "        #sentence = [morph.parse(w)[0].normal_form for w in sentence if not w in string.punctuation]\n",
    "        words = []\n",
    "        for word_info in sentence:\n",
    "            word = word_info[0]\n",
    "            word_norm = word_info[1][0][0]\n",
    "            word_tag = word_info[1][0][1]\n",
    "            if word_tag != 'PNCT':\n",
    "                words.append(word_norm)\n",
    "        f.write(' '.join(words))\n",
    "        f.write('\\n')\n",
    "\n",
    "f.close()"
   ]
  },
  {
   "cell_type": "code",
   "execution_count": 72,
   "metadata": {},
   "outputs": [
    {
     "name": "stdout",
     "output_type": "stream",
     "text": [
      "школа злословие учу прикусить язык\r\n",
      "сохранился ли градус дискуссия в новый сезон\r\n",
      "великолепный школа злословие вернулся в эфир после летний каникулы в новый формат\r\n",
      "в история программа это уже не первый ребрендинг\r\n",
      "сейчас с труд можно припомнить что начинаюсь школа на канал культура как стандартный ток-шоу который отличаюсь от другой кухонный обсуждение гость что называюсь за глаз и неожиданный персона в качество ведущий\r\n",
      "писательница татьяна толстая и сценаристка дуня смирнова вроде бы не вполне соответствую принятый на российский телевидение стандарт телеведущая\r\n",
      "впрочем на канал культура в роль телеведущая выступаю и писатель и композитор так что в это ничто сверхъестественный не есть а идея кухонный обсуждение не слишком прижился и некоторый выпуск программа обхожусь практически без они\r\n",
      "в остальной школа злословие представляю себя интервью ведущий с герой выпуск\r\n",
      "иногда и в самый дело не без злословие а по больший часть разговор с придыхание например в программа с участие борис берман и ильдар жандарев с который чем дальше тем больше родство наблюдаюсь у ведущий школа\r\n",
      "потом проект переехал с культура на нтв\r\n"
     ]
    }
   ],
   "source": [
    "# Посмотрим, что записалось в файл\n",
    "!head -10 opencorpora_for_word2vec.txt"
   ]
  },
  {
   "cell_type": "code",
   "execution_count": 73,
   "metadata": {},
   "outputs": [],
   "source": [
    "from gensim.models.word2vec import LineSentence, Word2Vec\n",
    "sentences = LineSentence('opencorpora_for_word2vec.txt')"
   ]
  },
  {
   "cell_type": "code",
   "execution_count": 85,
   "metadata": {},
   "outputs": [],
   "source": [
    "import gensim\n",
    "model = Word2Vec(sentences, size=300, window=5, min_count=5, workers=4, iter=20)\n",
    "model.init_sims(replace=True)"
   ]
  },
  {
   "cell_type": "code",
   "execution_count": 87,
   "metadata": {},
   "outputs": [
    {
     "name": "stdout",
     "output_type": "stream",
     "text": [
      "Microsoft 0.7642820477485657\n",
      "Apple 0.75931715965271\n",
      "Facebook 0.748410701751709\n",
      "сервис 0.710045337677002\n",
      "пользователь 0.6699686646461487\n",
      "яндекс 0.6689950823783875\n",
      "Yahoo 0.6634864807128906\n",
      "YouTube 0.6559182405471802\n",
      "рекламодатель 0.638451099395752\n",
      "iPad 0.6319189071655273\n"
     ]
    }
   ],
   "source": [
    "for w, sim in model.most_similar(positive=['Google']):\n",
    "    print(w, sim)"
   ]
  },
  {
   "cell_type": "code",
   "execution_count": 88,
   "metadata": {},
   "outputs": [
    {
     "name": "stdout",
     "output_type": "stream",
     "text": [
      "сотовый 0.7443118691444397\n",
      "мтс 0.719435453414917\n",
      "мегафон 0.7180873155593872\n",
      "билайн 0.6630145311355591\n",
      "корпорация 0.6465955972671509\n",
      "клиент 0.6272100806236267\n",
      "гигант 0.611676812171936\n",
      "фирма 0.609695553779602\n",
      "абонент 0.605896532535553\n",
      "вымпелком 0.5973916053771973\n"
     ]
    }
   ],
   "source": [
    "for w, sim in model.most_similar(positive=['оператор']):\n",
    "    print(w, sim)"
   ]
  },
  {
   "cell_type": "code",
   "execution_count": 89,
   "metadata": {},
   "outputs": [
    {
     "name": "stdout",
     "output_type": "stream",
     "text": [
      "девочка 0.6152350902557373\n",
      "старик 0.6139698028564453\n",
      "дама 0.5973415374755859\n",
      "мать 0.5807607173919678\n",
      "старушка 0.5546138882637024\n",
      "жена 0.5533432364463806\n",
      "муж 0.546291708946228\n",
      "сестра 0.5450875759124756\n",
      "изба 0.5369771718978882\n",
      "киприан 0.5339468717575073\n"
     ]
    }
   ],
   "source": [
    "for w, sim in model.most_similar(positive=['мальчик', 'женщина'], negative=['мужчина']):\n",
    "    print(w, sim)"
   ]
  },
  {
   "cell_type": "code",
   "execution_count": 109,
   "metadata": {},
   "outputs": [
    {
     "name": "stdout",
     "output_type": "stream",
     "text": [
      "бегать 0.6790564060211182\n",
      "сидеть 0.6553504467010498\n",
      "этак 0.61490797996521\n",
      "петь 0.6095747947692871\n",
      "ездить 0.603317379951477\n",
      "жить 0.6004873514175415\n",
      "гулять 0.5932364463806152\n",
      "садовник 0.5913929343223572\n",
      "кричать 0.5905488729476929\n",
      "танцевать 0.5900556445121765\n"
     ]
    }
   ],
   "source": [
    "for w, sim in model.most_similar(positive=['ходить']):\n",
    "    print(w, sim)"
   ]
  },
  {
   "cell_type": "code",
   "execution_count": 90,
   "metadata": {
    "scrolled": true
   },
   "outputs": [
    {
     "name": "stdout",
     "output_type": "stream",
     "text": [
      "сестра 0.6691266298294067\n",
      "мэри 0.6338056325912476\n",
      "двоюродный 0.6300526857376099\n",
      "дочь 0.6218883395195007\n",
      "принцесса 0.6100544929504395\n",
      "сын 0.6047371029853821\n",
      "младший 0.586128294467926\n",
      "дочка 0.5850523710250854\n",
      "александра 0.5849435329437256\n",
      "невеста 0.5821250677108765\n"
     ]
    }
   ],
   "source": [
    "for w, sim in model.most_similar(positive=[u'брат', u'жена'], negative=[u'муж']):\n",
    "    print(w, sim)"
   ]
  },
  {
   "cell_type": "code",
   "execution_count": 91,
   "metadata": {
    "scrolled": true
   },
   "outputs": [
    {
     "name": "stdout",
     "output_type": "stream",
     "text": [
      "машина\n"
     ]
    }
   ],
   "source": [
    "print(model.doesnt_match(\"книга журнал машина\".split()))"
   ]
  },
  {
   "cell_type": "code",
   "execution_count": 92,
   "metadata": {},
   "outputs": [
    {
     "data": {
      "text/plain": [
       "0.12297408197656652"
      ]
     },
     "execution_count": 92,
     "metadata": {},
     "output_type": "execute_result"
    }
   ],
   "source": [
    "model.similarity('книга', 'телефон')"
   ]
  },
  {
   "cell_type": "code",
   "execution_count": 93,
   "metadata": {},
   "outputs": [
    {
     "data": {
      "text/plain": [
       "array([ -6.66064695e-02,  -4.44198623e-02,   6.64242059e-02,\n",
       "        -1.16635919e-01,  -6.96288496e-02,   2.56894641e-02,\n",
       "         5.15077338e-02,   7.61067681e-03,   2.61159409e-02,\n",
       "        -7.43083060e-02,   6.77660033e-02,   8.69402960e-02,\n",
       "         1.31812887e-02,  -3.90672535e-02,  -4.82986420e-02,\n",
       "        -5.34459613e-02,  -2.27627326e-02,   5.24104238e-02,\n",
       "        -1.34841530e-02,   4.74592075e-02,  -2.74971034e-03,\n",
       "         1.30138740e-01,  -1.07812295e-02,  -2.18404271e-02,\n",
       "         1.21713042e-01,   4.15034667e-02,   6.30369484e-02,\n",
       "        -4.49692793e-02,  -6.72146529e-02,  -5.69823124e-02,\n",
       "        -2.01906115e-02,  -3.37175876e-02,   1.25155151e-01,\n",
       "        -8.10708925e-02,   7.24436343e-02,   8.83641690e-02,\n",
       "         1.48299327e-02,   1.05560616e-01,   5.83407993e-04,\n",
       "        -4.68797386e-02,  -6.92043304e-02,   7.87751302e-02,\n",
       "        -7.49749243e-02,  -4.51976173e-02,   8.56101811e-02,\n",
       "        -1.32972430e-02,  -1.93269886e-02,   1.11288447e-02,\n",
       "        -1.41239956e-01,  -4.68156077e-02,  -5.16468249e-02,\n",
       "        -6.96821511e-02,  -5.37428260e-02,   5.73352352e-02,\n",
       "         4.55159647e-03,  -8.30905437e-02,  -7.81843215e-02,\n",
       "        -4.83138300e-02,  -8.28412361e-03,  -2.25311611e-02,\n",
       "         3.08264326e-02,  -3.16953212e-02,  -6.37180135e-02,\n",
       "         1.08382016e-01,  -6.82696179e-02,   1.86095655e-01,\n",
       "         4.45342250e-02,   6.70820251e-02,  -2.39701867e-02,\n",
       "        -5.58971008e-03,   3.22766453e-02,  -8.32147673e-02,\n",
       "         5.90506122e-02,  -8.36806372e-02,  -2.29665637e-03,\n",
       "        -1.86097994e-02,   1.97761171e-02,   6.71765506e-02,\n",
       "         5.27669750e-02,   2.07556542e-02,   8.14981684e-02,\n",
       "        -5.46981879e-02,  -1.25745445e-01,   2.24230904e-02,\n",
       "        -4.83870544e-02,   7.06124231e-02,  -1.93401743e-02,\n",
       "         1.92905515e-02,  -5.97439054e-03,   8.94663334e-02,\n",
       "        -3.83415557e-02,   6.98387995e-02,   5.83990701e-02,\n",
       "        -7.58538544e-02,  -1.00467317e-01,  -9.90568101e-02,\n",
       "        -8.91891774e-03,  -3.30021977e-02,   2.09176354e-02,\n",
       "        -7.17347115e-02,   9.83485505e-02,  -5.12777176e-03,\n",
       "         2.21441425e-02,  -4.72359136e-02,   6.97437227e-02,\n",
       "        -7.35791177e-02,  -3.40868235e-02,  -7.21481591e-02,\n",
       "        -3.37842554e-02,   1.15682650e-02,   2.36766860e-02,\n",
       "         1.18732274e-01,  -1.01336343e-02,  -6.10387363e-02,\n",
       "        -3.83618666e-04,  -5.56632057e-02,  -1.12669719e-02,\n",
       "         3.89423817e-02,   5.68891270e-03,  -6.19831569e-02,\n",
       "         2.01264977e-01,   4.91988920e-02,  -1.12522319e-02,\n",
       "        -3.22549902e-02,  -1.19415507e-01,  -9.63921100e-03,\n",
       "        -3.08077186e-02,  -4.77851592e-02,  -9.46934819e-02,\n",
       "        -6.34814147e-03,  -6.01644628e-02,   2.51425784e-02,\n",
       "        -1.43554769e-02,  -7.13260621e-02,   6.16931822e-03,\n",
       "        -3.41002783e-03,   1.64549313e-02,   5.15590906e-02,\n",
       "         8.66899788e-02,   7.65832141e-02,   2.33079530e-02,\n",
       "        -4.60085226e-03,  -6.52333051e-02,   5.88628240e-02,\n",
       "        -6.43842481e-03,  -8.40372294e-02,   2.08342187e-02,\n",
       "         2.62226127e-02,   5.24796918e-02,  -3.78964134e-02,\n",
       "         7.99241066e-02,  -9.53916386e-02,   4.56217937e-02,\n",
       "        -3.58487777e-02,   1.60172097e-02,   5.98882101e-02,\n",
       "        -8.25212616e-03,   6.38850499e-03,  -4.31778841e-02,\n",
       "         3.74718904e-02,   4.95997083e-04,   4.93536666e-02,\n",
       "        -7.37534324e-03,   8.63134582e-03,  -3.78800333e-02,\n",
       "        -9.88634955e-03,  -2.76480429e-02,   4.15686220e-02,\n",
       "         1.36512881e-02,   4.44867760e-02,   6.78671226e-02,\n",
       "        -1.87725265e-04,   5.99004477e-02,  -4.70321476e-02,\n",
       "        -2.04575472e-02,  -2.47128159e-02,  -4.75505665e-02,\n",
       "        -4.25790213e-02,   3.99622582e-02,   7.07255676e-03,\n",
       "        -2.28209700e-02,   1.76715888e-02,   1.28508108e-02,\n",
       "         4.27563582e-03,   4.61886190e-02,   8.36199746e-02,\n",
       "         5.41396206e-03,  -6.61094338e-02,   4.77626510e-02,\n",
       "        -2.15506386e-02,   5.27199022e-02,   4.67206798e-02,\n",
       "        -6.53523132e-02,   3.57420444e-02,   2.05262993e-02,\n",
       "        -1.09752320e-01,  -7.42331818e-02,  -1.21350307e-02,\n",
       "         1.38453310e-02,  -6.94212317e-02,  -2.63348073e-02,\n",
       "         1.21186920e-01,   3.82127091e-02,   2.65490282e-02,\n",
       "        -6.50133640e-02,   9.26509947e-02,   2.44365484e-02,\n",
       "         4.43040393e-02,   5.55198565e-02,   3.07979435e-02,\n",
       "        -1.87067187e-03,  -1.17348712e-02,  -5.52491052e-03,\n",
       "         9.57945362e-02,   1.34229541e-01,  -4.33343276e-02,\n",
       "         9.32750106e-02,  -4.05719737e-03,  -1.51451724e-02,\n",
       "         1.36743125e-03,   1.86978132e-02,  -4.11414355e-02,\n",
       "         7.87534639e-02,  -6.18747668e-03,   7.89246261e-02,\n",
       "         9.69210360e-03,   3.35476547e-02,   2.76592486e-02,\n",
       "         1.24897733e-02,  -7.21778721e-02,  -3.98620628e-02,\n",
       "        -8.32007919e-03,  -1.90642215e-02,   1.07370690e-01,\n",
       "         9.53163877e-02,  -2.05389690e-02,   1.76377878e-01,\n",
       "        -3.14694680e-02,  -1.87843349e-02,  -1.68070942e-02,\n",
       "        -4.71599773e-02,  -7.23733157e-02,  -4.62648347e-02,\n",
       "         3.87569331e-02,   2.39796452e-02,  -5.58207072e-02,\n",
       "         1.04204096e-01,   1.08729545e-02,   4.72156331e-02,\n",
       "        -4.74224314e-02,  -3.79938409e-02,   3.44048813e-02,\n",
       "         1.53902182e-02,   4.87779826e-02,  -1.02038756e-02,\n",
       "         1.74202882e-02,  -3.14939283e-02,   1.47070875e-02,\n",
       "        -3.00242193e-02,   4.84845303e-02,   6.61288202e-02,\n",
       "        -2.40125880e-02,   6.54045939e-02,  -4.77047749e-02,\n",
       "         5.18445633e-02,  -1.13411948e-01,   2.00237241e-02,\n",
       "         2.15436751e-03,   7.99999386e-02,  -5.09396680e-02,\n",
       "         7.54935890e-02,   8.23409110e-02,  -5.55786630e-03,\n",
       "        -7.80306756e-03,   1.52441766e-02,   4.97300923e-02,\n",
       "         7.30552943e-03,  -4.62519191e-02,   2.90133408e-03,\n",
       "         1.06211282e-01,  -4.78968844e-02,   1.54848723e-02,\n",
       "        -1.31719736e-02,   4.92493771e-02,   3.13060954e-02,\n",
       "         4.73760478e-02,  -2.48281062e-02,  -5.18889278e-02,\n",
       "        -5.19747883e-02,   1.89337954e-02,   1.71111040e-02,\n",
       "         1.21824302e-01,   8.64699483e-02,  -2.73001250e-02,\n",
       "        -5.52362539e-02,   6.40379712e-02,  -4.80157770e-02,\n",
       "         1.53738419e-02,   2.47978345e-02,  -4.00358113e-03], dtype=float32)"
      ]
     },
     "execution_count": 93,
     "metadata": {},
     "output_type": "execute_result"
    }
   ],
   "source": [
    "model['книга']"
   ]
  },
  {
   "cell_type": "markdown",
   "metadata": {},
   "source": [
    "### Загрузим обученную модель для английского языка"
   ]
  },
  {
   "cell_type": "code",
   "execution_count": 110,
   "metadata": {},
   "outputs": [],
   "source": [
    "from gensim.models.word2vec import Word2Vec\n",
    "\n",
    "#model2 = Word2Vec.load_word2vec_format('GoogleNews-vectors-negative300.bin', binary=True)  \n",
    "model2 = gensim.models.KeyedVectors.load_word2vec_format('GoogleNews-vectors-negative300.bin', binary=True)"
   ]
  },
  {
   "cell_type": "code",
   "execution_count": 111,
   "metadata": {},
   "outputs": [
    {
     "data": {
      "text/plain": [
       "[('good', 0.7190051078796387),\n",
       " ('terrible', 0.6828611493110657),\n",
       " ('horrible', 0.6702598333358765),\n",
       " ('Bad', 0.6698919534683228),\n",
       " ('lousy', 0.6647641062736511),\n",
       " ('crummy', 0.567781925201416),\n",
       " ('horrid', 0.5651682615280151),\n",
       " ('awful', 0.5527253150939941),\n",
       " ('dreadful', 0.5526429414749146),\n",
       " ('horrendous', 0.5445997714996338)]"
      ]
     },
     "execution_count": 111,
     "metadata": {},
     "output_type": "execute_result"
    }
   ],
   "source": [
    "model2.most_similar(positive=[u'bad'])"
   ]
  },
  {
   "cell_type": "code",
   "execution_count": 112,
   "metadata": {},
   "outputs": [
    {
     "data": {
      "text/plain": [
       "[('tome', 0.7485830783843994),\n",
       " ('books', 0.7379177808761597),\n",
       " ('memoir', 0.7302927374839783),\n",
       " ('paperback_edition', 0.6868364810943604),\n",
       " ('autobiography', 0.6741527915000916),\n",
       " ('memoirs', 0.6505153179168701),\n",
       " ('Book', 0.6479282379150391),\n",
       " ('paperback', 0.6471227407455444),\n",
       " ('novels', 0.6341459155082703),\n",
       " ('hardback', 0.6283079385757446),\n",
       " ('bestselling_book', 0.6223880052566528),\n",
       " ('cookbook', 0.6180881261825562),\n",
       " ('biography', 0.6155841946601868),\n",
       " ('bestseller', 0.613844633102417),\n",
       " ('novel', 0.6121935844421387),\n",
       " ('Lace_Reader', 0.6056275367736816),\n",
       " ('Viking_Penguin', 0.602107048034668),\n",
       " ('hardcover_edition', 0.6003977060317993),\n",
       " ('bestselling_memoir', 0.5942046642303467),\n",
       " ('Booklocker.com', 0.5937406420707703),\n",
       " ('nonfiction', 0.5934834480285645),\n",
       " ('hardcover', 0.5932128429412842),\n",
       " ('booklist', 0.5929336547851562),\n",
       " ('tomes', 0.5892350673675537),\n",
       " ('Books', 0.5862935185432434),\n",
       " ('hardbound_edition', 0.5856189727783203),\n",
       " ('Authorhouse', 0.5848588943481445),\n",
       " ('YA_novel', 0.5821748971939087),\n",
       " ('novella', 0.582018256187439),\n",
       " ('Memoir', 0.5817769765853882)]"
      ]
     },
     "execution_count": 112,
     "metadata": {},
     "output_type": "execute_result"
    }
   ],
   "source": [
    "model2.most_similar(positive=['book'], topn=30)"
   ]
  },
  {
   "cell_type": "code",
   "execution_count": 113,
   "metadata": {},
   "outputs": [],
   "source": [
    "#model2.init_sims(replace=True)"
   ]
  },
  {
   "cell_type": "code",
   "execution_count": 114,
   "metadata": {},
   "outputs": [
    {
     "data": {
      "text/plain": [
       "[('girl', 0.8881361484527588),\n",
       " ('teenage_girl', 0.7058954238891602),\n",
       " ('mother', 0.6978276968002319),\n",
       " ('toddler', 0.6870075464248657),\n",
       " ('daughter', 0.6686559319496155),\n",
       " ('child', 0.6597288250923157),\n",
       " ('teenager', 0.6441271305084229),\n",
       " ('schoolgirl', 0.6108163595199585),\n",
       " ('teenaged_girl', 0.6087049841880798),\n",
       " ('niece', 0.6057228446006775)]"
      ]
     },
     "execution_count": 114,
     "metadata": {},
     "output_type": "execute_result"
    }
   ],
   "source": [
    "model2.most_similar(positive=['boy', 'woman'], negative=['man'])"
   ]
  },
  {
   "cell_type": "code",
   "execution_count": 115,
   "metadata": {},
   "outputs": [
    {
     "data": {
      "text/plain": [
       "[('programmer', 0.5317933559417725),\n",
       " ('sofware', 0.49300989508628845),\n",
       " ('designer_Kevin_Kachikian', 0.4849098324775696),\n",
       " ('Software', 0.4780718684196472),\n",
       " ('Simonyi_Hungarian', 0.4773034155368805),\n",
       " ('n.runs_AG', 0.4671511650085449),\n",
       " ('electrical_engineer', 0.46680426597595215),\n",
       " ('Siemens_WinCC', 0.4661647081375122),\n",
       " ('SecurityCenter', 0.4588291049003601),\n",
       " ('mechanical_engineer', 0.4568362832069397)]"
      ]
     },
     "execution_count": 115,
     "metadata": {},
     "output_type": "execute_result"
    }
   ],
   "source": [
    "model2.most_similar(positive=['software', 'engineer'], negative=['building'])"
   ]
  },
  {
   "cell_type": "code",
   "execution_count": 116,
   "metadata": {},
   "outputs": [
    {
     "data": {
      "text/plain": [
       "[('apathy', 0.5556094646453857),\n",
       " ('callousness', 0.5117982625961304),\n",
       " ('timidity', 0.5015573501586914),\n",
       " ('helplessness', 0.5003135204315186),\n",
       " ('inaction', 0.49631521105766296),\n",
       " ('distrust', 0.4926231801509857),\n",
       " ('hostility', 0.48933145403862),\n",
       " ('ignorance', 0.4860897660255432),\n",
       " ('acquiescence', 0.4795541763305664),\n",
       " ('wariness', 0.4747586250305176)]"
      ]
     },
     "execution_count": 116,
     "metadata": {},
     "output_type": "execute_result"
    }
   ],
   "source": [
    "model2.most_similar(positive=['fear', 'indifference'], negative=['love'])"
   ]
  },
  {
   "cell_type": "code",
   "execution_count": 117,
   "metadata": {},
   "outputs": [
    {
     "data": {
      "text/plain": [
       "[('Moscow', 0.7727653384208679),\n",
       " ('Kremlin', 0.60155189037323),\n",
       " ('Kiev', 0.5648733377456665),\n",
       " ('St_Petersburg', 0.5402120351791382),\n",
       " ('Russian', 0.533115029335022),\n",
       " ('Russians', 0.529204249382019),\n",
       " ('Saint_Petersburg', 0.5267878174781799),\n",
       " ('Putin', 0.5266671180725098),\n",
       " ('Poisonous_smog_returns', 0.5251235961914062),\n",
       " ('Prime_Minister_Vladimir_Putin', 0.5222783088684082)]"
      ]
     },
     "execution_count": 117,
     "metadata": {},
     "output_type": "execute_result"
    }
   ],
   "source": [
    "model2.most_similar(positive=['Russia', 'London'], negative=['UK'])"
   ]
  },
  {
   "cell_type": "code",
   "execution_count": 118,
   "metadata": {},
   "outputs": [
    {
     "data": {
      "text/plain": [
       "[('Medvedev', 0.673559308052063),\n",
       " ('Putin', 0.6472189426422119),\n",
       " ('Kremlin', 0.6166538000106812),\n",
       " ('President_Dmitry_Medvedev', 0.6108168959617615),\n",
       " ('President_Barack_Obama', 0.5944156646728516),\n",
       " ('President_Vladimir_Putin', 0.5936282277107239),\n",
       " ('Prime_Minister_Vladimir_Putin', 0.5809563398361206),\n",
       " ('Lavrov', 0.5617890357971191),\n",
       " ('Dmitri_Medvedev', 0.5512057542800903),\n",
       " ('Dmitry_Medvedev', 0.5505295991897583)]"
      ]
     },
     "execution_count": 118,
     "metadata": {},
     "output_type": "execute_result"
    }
   ],
   "source": [
    "model2.most_similar(positive=['Russia', 'Obama'], negative=['USA'])"
   ]
  },
  {
   "cell_type": "code",
   "execution_count": 119,
   "metadata": {},
   "outputs": [
    {
     "data": {
      "text/plain": [
       "[('Ukraine', 0.6590520143508911),\n",
       " ('Russian', 0.6075345277786255),\n",
       " ('Moscow', 0.5885874032974243),\n",
       " ('Moldova', 0.5863596200942993),\n",
       " ('Armenia', 0.5777627229690552),\n",
       " ('Belarus', 0.5771699547767639),\n",
       " ('Abkhazia', 0.576553463935852),\n",
       " ('Lithuania', 0.563917875289917),\n",
       " ('Kremlin', 0.5627690553665161),\n",
       " ('Azerbaijan', 0.554476797580719)]"
      ]
     },
     "execution_count": 119,
     "metadata": {},
     "output_type": "execute_result"
    }
   ],
   "source": [
    "model2.most_similar(positive=['Russia', 'Taiwan'], negative=['China'])"
   ]
  },
  {
   "cell_type": "code",
   "execution_count": 120,
   "metadata": {},
   "outputs": [
    {
     "data": {
      "text/plain": [
       "[('Public_Library', 0.467940092086792),\n",
       " ('library', 0.42263564467430115),\n",
       " ('Branch_Library', 0.39984914660453796),\n",
       " ('Municipal_Building', 0.357891708612442),\n",
       " ('Transfer_Station', 0.34992197155952454),\n",
       " ('Carnegie_Library', 0.3456169068813324),\n",
       " ('Elementary_School', 0.344868540763855),\n",
       " ('Art_Museum', 0.33669430017471313),\n",
       " ('Historical_Museum', 0.3362313508987427),\n",
       " ('Family_YMCA', 0.3285529911518097)]"
      ]
     },
     "execution_count": 120,
     "metadata": {},
     "output_type": "execute_result"
    }
   ],
   "source": [
    "model2.most_similar(positive=['Library'], negative=['Book'])"
   ]
  },
  {
   "cell_type": "markdown",
   "metadata": {
    "collapsed": true
   },
   "source": [
    "## Задание"
   ]
  },
  {
   "cell_type": "markdown",
   "metadata": {},
   "source": [
    "Используйте модуль phrases, чтобы найти словосочетания. \n",
    "https://radimrehurek.com/gensim/models/phrases.html#module-gensim.models.phrases<br/>\n",
    "Обучите word2vec на фразах. Найдите близки фразы для совосочетания \"барак_обама\"<br/>"
   ]
  },
  {
   "cell_type": "code",
   "execution_count": null,
   "metadata": {
    "collapsed": true
   },
   "outputs": [],
   "source": []
  },
  {
   "cell_type": "markdown",
   "metadata": {},
   "source": [
    "Придумайте и протестируйте другие примеры"
   ]
  },
  {
   "cell_type": "code",
   "execution_count": null,
   "metadata": {
    "collapsed": true
   },
   "outputs": [],
   "source": []
  },
  {
   "cell_type": "markdown",
   "metadata": {},
   "source": [
    "Обучите word2vec на ненормализованных текстах. Подберите параметры, чтобы получить наилучшие параметры"
   ]
  },
  {
   "cell_type": "code",
   "execution_count": null,
   "metadata": {
    "collapsed": true
   },
   "outputs": [],
   "source": []
  }
 ],
 "metadata": {
  "kernelspec": {
   "display_name": "Python 3",
   "language": "python",
   "name": "python3"
  },
  "language_info": {
   "codemirror_mode": {
    "name": "ipython",
    "version": 3
   },
   "file_extension": ".py",
   "mimetype": "text/x-python",
   "name": "python",
   "nbconvert_exporter": "python",
   "pygments_lexer": "ipython3",
   "version": "3.5.2"
  }
 },
 "nbformat": 4,
 "nbformat_minor": 1
}
